{
 "cells": [
  {
   "cell_type": "markdown",
   "metadata": {},
   "source": [
    "# Regex (Revision)"
   ]
  },
  {
   "cell_type": "markdown",
   "metadata": {},
   "source": [
    "### 1. Validating a US Phone Number\n",
    "\n",
    "**Challenge:** Create a regex that validates US phone numbers in the following formats:\n",
    "\n",
    " - (XXX) XXX-XXXX\n",
    " - XXX-XXX-XXXX\n",
    " - XXXXXXXXXX\n",
    " - XXX.XXX.XXXX\n"
   ]
  },
  {
   "cell_type": "code",
   "execution_count": 58,
   "metadata": {},
   "outputs": [],
   "source": [
    "# Test Case\n",
    "\n",
    "test_cases = [\n",
    "    (\"(123) 456-7890\", True),\n",
    "    (\"123-456-7890\", True),\n",
    "    (\"123.456.7890\", True),\n",
    "    (\"1234567890\", True),\n",
    "    (\"(123)456-7890\", True),\n",
    "    (\"12-345-6789\", False),\n",
    "    (\"(1234) 567-8901\", False),\n",
    "    (\"123 456 78909\", False),\n",
    "    (\"123/456/7890\", False),\n",
    "]\n",
    "\n",
    "def test(func, test_cases = test_cases):\n",
    "    for [input, output] in test_cases:\n",
    "        try:\n",
    "            assert func(input) == output\n",
    "        except AssertionError:\n",
    "            print(f\"Test Case failed! \\nInput: {input}\\n\\nExpected Output: {output}\\n\\nReturned Output: {func(input)}\\n\")\n",
    "            return\n",
    "    print(\"All test cases passed.\")\n",
    "    \n"
   ]
  },
  {
   "cell_type": "code",
   "execution_count": 59,
   "metadata": {},
   "outputs": [],
   "source": [
    "import re"
   ]
  },
  {
   "cell_type": "code",
   "execution_count": 60,
   "metadata": {},
   "outputs": [
    {
     "data": {
      "text/plain": [
       "True"
      ]
     },
     "execution_count": 60,
     "metadata": {},
     "output_type": "execute_result"
    }
   ],
   "source": [
    "pattern = '[(]?\\d{3}[)]?[.\\- ]?\\d{3}[.\\- ]?\\d{4}'\n",
    "text = '(123) 456-7890'\n",
    "\n",
    "bool(re.match(pattern, text))"
   ]
  },
  {
   "cell_type": "code",
   "execution_count": 61,
   "metadata": {},
   "outputs": [],
   "source": [
    "def func(text):\n",
    "    pattern = r'^(\\(\\d{3}\\)|\\d{3})[.\\- ]?\\d{3}[.\\- ]?\\d{4}$'\n",
    "    return bool(re.match(pattern, text))"
   ]
  },
  {
   "cell_type": "code",
   "execution_count": 62,
   "metadata": {},
   "outputs": [
    {
     "name": "stdout",
     "output_type": "stream",
     "text": [
      "All test cases passed.\n"
     ]
    }
   ],
   "source": [
    "test(func)"
   ]
  },
  {
   "cell_type": "markdown",
   "metadata": {},
   "source": [
    "### 2. Validating / Extracting Email Addresses"
   ]
  },
  {
   "cell_type": "markdown",
   "metadata": {},
   "source": [
    "#### **Problem Description**\n",
    "Your system must validate email addresses using a regex. The following rules should be enforced:  \n",
    "1. A valid email must contain:  \n",
    "   - A local part (e.g., `username` in `username@example.com`).\n",
    "   - An `@` symbol.\n",
    "   - A domain name with at least one `.` (dot).  \n",
    "2. The local part may include:  \n",
    "   - Letters (uppercase and lowercase).  \n",
    "   - Numbers, dots (`.`), hyphens (`-`), and underscores (`_`), but must not start or end with a dot or have consecutive dots.  \n",
    "3. The domain name:  \n",
    "   - Must include letters, numbers, and optionally hyphens (`-`).  \n",
    "   - Should not start or end with a hyphen.  \n",
    "   - The top-level domain (TLD) must be 2–63 characters long and consist only of letters.  \n",
    "4. The email must not have spaces.  \n",
    "\n",
    "Invalid cases include improperly placed symbols, missing components, or invalid domain names.  "
   ]
  },
  {
   "cell_type": "code",
   "execution_count": 139,
   "metadata": {},
   "outputs": [],
   "source": [
    "test_cases = [\n",
    "    # Valid emails\n",
    "    (\"user@example.com\", True),                  # Simple valid email\n",
    "    (\"user.name+tag@sub.example.co.uk\", True),   # With dot in local, subdomain, and valid TLD\n",
    "    (\"user_name-123@domain123.org\", True),       # Alphanumeric local part with special characters\n",
    "    (\"u@x.io\", True),                            # Minimal valid email\n",
    "    (\"first.last@com.com\", True),                # Repeating domain\n",
    "\n",
    "    # Invalid emails\n",
    "    (\"user@.com\", False),                        # Domain starts with a dot\n",
    "    (\"user@com.\", False),                        # Domain ends with a dot\n",
    "    (\"@example.com\", False),                     # Missing local part\n",
    "    (\"userexample.com\", False),                  # Missing '@'\n",
    "    (\"user@domain..com\", False),                 # Consecutive dots in domain\n",
    "    (\"user..name@example.com\", False),           # Consecutive dots in local part\n",
    "    (\".username@example.com\", False),            # Local part starts with a dot\n",
    "    (\"username.@example.com\", False),            # Local part ends with a dot\n",
    "    (\"username@domain-.com\", False),             # Domain ends with a hyphen\n",
    "    (\"username@-domain.com\", False),             # Domain starts with a hyphen\n",
    "    (\"user name@example.com\", False),            # Contains space\n",
    "    (\"user@domain.c\", False),                    # TLD too short\n",
    "    (\"user@domain.toolongtldtoolongtldtoolongtldtoolongtldtoolongtldtoolong\", False),  # TLD too long\n",
    "    (\"user@domain..com\", False),                 # Multiple consecutive dots in domain\n",
    "    (\"user@domain.c0m\", False),                  # Numeric character in TLD\n",
    "    (\"user@domain@com\", False),                  # Multiple '@' symbols\n",
    "    (\"user@@domain.com\", False),                 # Double '@' symbols\n",
    "    (\"user@domain.com.\", False),                 # Trailing dot after TLD\n",
    "]"
   ]
  },
  {
   "cell_type": "code",
   "execution_count": 147,
   "metadata": {},
   "outputs": [
    {
     "data": {
      "text/plain": [
       "True"
      ]
     },
     "execution_count": 147,
     "metadata": {},
     "output_type": "execute_result"
    }
   ],
   "source": [
    "# let's match \n",
    "\n",
    "# match the valid characters\n",
    "username = '^[a-zA-Z0-9](?!.*\\.\\.)[a-zA-Z0-9._-]*[a-zA-Z0-9]$'\n",
    "domain = '([a-zA-Z0-9]([a-zA-Z0-9-\\+]*[a-zA-Z0-9])?\\.)+[a-zA-Z]{2, 63}'\n",
    "\n",
    "pattern = r'^[a-zA-Z0-9](?!.*\\.\\.)([a-zA-Z0-9._\\-\\+]*[a-zA-Z0-9])*@([a-zA-Z0-9]([a-zA-Z0-9-]*[a-zA-Z0-9])?\\.)+[a-zA-Z]{2,18}$'\n",
    "email = 'u@x.io'\n",
    "bool(re.search(pattern, email))"
   ]
  },
  {
   "cell_type": "code",
   "execution_count": 148,
   "metadata": {},
   "outputs": [],
   "source": [
    "def test_email(email):\n",
    "    return bool(re.search(pattern, email))"
   ]
  },
  {
   "cell_type": "code",
   "execution_count": 149,
   "metadata": {},
   "outputs": [
    {
     "name": "stdout",
     "output_type": "stream",
     "text": [
      "All test cases passed.\n"
     ]
    }
   ],
   "source": [
    "test(test_email, test_cases)"
   ]
  },
  {
   "cell_type": "markdown",
   "metadata": {},
   "source": [
    "### 3. Validating a Password\n",
    "\n",
    "**Challenge:** Create a regex that validates a password with the following criteria:\n",
    "\n",
    "Minimum 8 characters:\n",
    "* At least one uppercase letter\n",
    "* At least one lowercase letter\n",
    "* At least one digit\n",
    "* At least one special characte"
   ]
  },
  {
   "cell_type": "code",
   "execution_count": 152,
   "metadata": {},
   "outputs": [],
   "source": [
    "test_cases = [\n",
    "    # Valid passwords\n",
    "    (\"P@wOrd123\", True),       # Valid: Meets all criteria\n",
    "    (\"MyPass!2\", True),        # Valid: Meets all criteria\n",
    "    (\"Strong$Pass8\", True),    # Valid: Meets all criteria\n",
    "\n",
    "    # Invalid passwords\n",
    "    (\"password\", False),       # Invalid: No uppercase, digit, or special character\n",
    "    (\"Password\", False),       # Invalid: No digit or special character\n",
    "    (\"P@word\", False),         # Invalid: No digit\n",
    "    (\"P@$wOrd\", False),        # Invalid: Less than 8 characters\n",
    "    (\"12345678\", False),       # Invalid: No uppercase, lowercase, or special character\n",
    "    (\"abcdefgh\", False),       # Invalid: No uppercase, digit, or special character\n",
    "    (\"ABCDEFGH\", False),       # Invalid: No lowercase, digit, or special character\n",
    "    (\"Abc!@#$%\", False),       # Invalid: No digit\n",
    "    (\"aB3@\", False),           # Invalid: Less than 8 characters\n",
    "]"
   ]
  },
  {
   "cell_type": "code",
   "execution_count": 160,
   "metadata": {},
   "outputs": [
    {
     "data": {
      "text/plain": [
       "True"
      ]
     },
     "execution_count": 160,
     "metadata": {},
     "output_type": "execute_result"
    }
   ],
   "source": [
    "pass_pattern = '^(?=.*[0-9])(?=.*[a-z])(?=.*[A-Z])(?=.*[!@#$%^&*\\(\\)\\.\\\\~])[a-zA-Z0-9!@#$%^;\"><\\?\\[\\]\\(\\)~]{8,}$'\n",
    "password = 'abdi1A!aaaa'\n",
    "\n"
   ]
  },
  {
   "cell_type": "code",
   "execution_count": 161,
   "metadata": {},
   "outputs": [],
   "source": [
    "def password_validate(password, pattern=pass_pattern):\n",
    "    return bool(re.match(pattern, password))"
   ]
  },
  {
   "cell_type": "code",
   "execution_count": 162,
   "metadata": {},
   "outputs": [
    {
     "name": "stdout",
     "output_type": "stream",
     "text": [
      "All test cases passed.\n"
     ]
    }
   ],
   "source": [
    "test(password_validate, test_cases)"
   ]
  },
  {
   "cell_type": "code",
   "execution_count": null,
   "metadata": {},
   "outputs": [],
   "source": []
  }
 ],
 "metadata": {
  "kernelspec": {
   "display_name": "Python 3",
   "language": "python",
   "name": "python3"
  },
  "language_info": {
   "codemirror_mode": {
    "name": "ipython",
    "version": 3
   },
   "file_extension": ".py",
   "mimetype": "text/x-python",
   "name": "python",
   "nbconvert_exporter": "python",
   "pygments_lexer": "ipython3",
   "version": "3.11.5"
  }
 },
 "nbformat": 4,
 "nbformat_minor": 2
}
