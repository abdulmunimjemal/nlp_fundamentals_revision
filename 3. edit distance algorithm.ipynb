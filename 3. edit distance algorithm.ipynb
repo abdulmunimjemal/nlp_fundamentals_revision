{
 "cells": [
  {
   "cell_type": "markdown",
   "metadata": {},
   "source": [
    "# Edit Distance Algorithm\n",
    "\n",
    "One of the ways to measure \"alignment\" or \"similarity\" of two sequences in statistical methods."
   ]
  },
  {
   "cell_type": "code",
   "execution_count": 7,
   "metadata": {},
   "outputs": [],
   "source": [
    "def edit_distance(seq1: str, seq2: str, cost=[1, 1, 1]):\n",
    "    \"\"\"\n",
    "    cost = [insertion cost, deletion cost, substitution cost]\n",
    "    \"\"\"\n",
    "    m, n = len(seq1), len(seq2)\n",
    "    \n",
    "    # Create a grid with dimensions (m+1) x (n+1)\n",
    "    grid = [[0 for _ in range(n + 1)] for _ in range(m + 1)]\n",
    "    \n",
    "    # Initialize the first row and column with costs\n",
    "    for i in range(m + 1):\n",
    "        grid[i][0] = i * cost[1]  # Deletion cost for the first column\n",
    "    for j in range(n + 1):\n",
    "        grid[0][j] = j * cost[0]  # Insertion cost for the first row\n",
    "    \n",
    "    # Fill the grid\n",
    "    for i in range(1, m + 1):\n",
    "        for j in range(1, n + 1):\n",
    "            if seq1[i - 1] == seq2[j - 1]:  # Match, no cost\n",
    "                grid[i][j] = grid[i - 1][j - 1]\n",
    "            else:\n",
    "                grid[i][j] = min(\n",
    "                    grid[i][j - 1] + cost[0],  # Insertion\n",
    "                    grid[i - 1][j] + cost[1],  # Deletion\n",
    "                    grid[i - 1][j - 1] + cost[2]  # Substitution\n",
    "                )\n",
    "    \n",
    "    # Return the edit distance\n",
    "    return grid[m][n]"
   ]
  },
  {
   "cell_type": "code",
   "execution_count": 27,
   "metadata": {},
   "outputs": [],
   "source": [
    "def run_edit_distance_tests():\n",
    "    def test_edit_distance():\n",
    "        # Test cases: (seq1, seq2, cost, expected_output)\n",
    "        test_cases = [\n",
    "            (\"kitten\", \"sitting\", [1, 1, 1], 3),  # Standard Levenshtein distance\n",
    "            (\"kitten\", \"sitting\", [1, 1, 2], 5),  # Higher insertion and deletion costs\n",
    "            (\"flaw\", \"lawn\", [2, 1, 1], 3),      # Substitution cost is higher\n",
    "            (\"\", \"abc\", [2, 1, 1], 6),           # Insertions with higher cost\n",
    "            (\"abc\", \"\", [1, 2, 1], 6),           # Deletions with higher cost\n",
    "            (\"abc\", \"adc\", [1, 1, 2], 2),        # Substitution cost dominates\n",
    "            (\"abc\", \"xyz\", [1, 1, 2], 6),        # Three substitutions with custom cost\n",
    "            (\"\", \"\", [1, 1, 1], 0),              # Both strings empty\n",
    "            (\"intention\", \"execution\", [1, 1, 1], 5),  # Complex case with equal costs\n",
    "        ]\n",
    "\n",
    "        for i, (seq1, seq2, cost, expected) in enumerate(test_cases):\n",
    "            result = edit_distance(seq1, seq2, cost)\n",
    "            if result == expected:\n",
    "                print(f\"Test case {i + 1} passed!\")\n",
    "            else:\n",
    "                print(f\"Test case {i + 1} failed: seq1='{seq1}', seq2='{seq2}', cost={cost}, expected={expected}, got={result}\")\n",
    "\n",
    "    test_edit_distance()"
   ]
  },
  {
   "cell_type": "code",
   "execution_count": 28,
   "metadata": {},
   "outputs": [
    {
     "name": "stdout",
     "output_type": "stream",
     "text": [
      "Test case 1 passed!\n",
      "Test case 2 passed!\n",
      "Test case 3 passed!\n",
      "Test case 4 passed!\n",
      "Test case 5 passed!\n",
      "Test case 6 passed!\n",
      "Test case 7 passed!\n",
      "Test case 8 passed!\n",
      "Test case 9 passed!\n"
     ]
    }
   ],
   "source": [
    "run_edit_distance_tests()"
   ]
  },
  {
   "cell_type": "code",
   "execution_count": null,
   "metadata": {},
   "outputs": [],
   "source": []
  }
 ],
 "metadata": {
  "kernelspec": {
   "display_name": "Python 3",
   "language": "python",
   "name": "python3"
  },
  "language_info": {
   "codemirror_mode": {
    "name": "ipython",
    "version": 3
   },
   "file_extension": ".py",
   "mimetype": "text/x-python",
   "name": "python",
   "nbconvert_exporter": "python",
   "pygments_lexer": "ipython3",
   "version": "3.11.5"
  }
 },
 "nbformat": 4,
 "nbformat_minor": 2
}
